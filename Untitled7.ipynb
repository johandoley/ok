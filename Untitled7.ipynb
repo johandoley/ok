{
 "cells": [
  {
   "cell_type": "code",
   "execution_count": 1,
   "id": "1cfb6ea7",
   "metadata": {},
   "outputs": [],
   "source": [
    "import numpy as np"
   ]
  },
  {
   "cell_type": "code",
   "execution_count": 2,
   "id": "ea035aec",
   "metadata": {},
   "outputs": [
    {
     "name": "stdout",
     "output_type": "stream",
     "text": [
      " djhhkj:     a = [0. 0. 0. 0. 0. 0. 0. 0. 0.], a shape = (9,), a data type = float64\n",
      "djkhjdsjkj:  a= [0.13025325 0.96439706 0.17483266 0.7851836 ], a shape = (4,), a data type = float64\n"
     ]
    }
   ],
   "source": [
    "#VECTOR CREATION \n",
    "a = np.zeros(9);                 print(f\" djhhkj:     a = {a}, a shape = {a.shape}, a data type = {a.dtype}\")\n",
    "a = np.random.random_sample(4); print(f\"djkhjdsjkj:  a= {a }, a shape = {a.shape}, a data type = {a.dtype}\")"
   ]
  },
  {
   "cell_type": "code",
   "execution_count": 25,
   "id": "c95a1aaa",
   "metadata": {},
   "outputs": [
    {
     "name": "stdout",
     "output_type": "stream",
     "text": [
      "np.arrange(4.):     a = [0. 1. 2. 3.], a shape = (4,), a data type = float64\n",
      "np.random.rand(4):  a = [0.43268347 0.44688786 0.49986371 0.99105347], a shape = (4,), a data dtype  float64\n"
     ]
    }
   ],
   "source": [
    "#NUMPY ROUTINES WHICH ALLOCATE MEMORY AND FILL ARRAYS WITH VALUE BUT DO NOT ACCEPT SHAPE AS ARGUMENT \n",
    "a = np.arange(4.);      print(f\"np.arrange(4.):     a = {a}, a shape = {a.shape}, a data type = {a.dtype}\")\n",
    "a = np.random.rand(4);  print(f\"np.random.rand(4):  a = {a}, a shape = {a.shape}, a data dtype  {a.dtype}\")\n"
   ]
  },
  {
   "cell_type": "code",
   "execution_count": 4,
   "id": "e909aa74",
   "metadata": {},
   "outputs": [
    {
     "name": "stdout",
     "output_type": "stream",
     "text": [
      "[0 1 2 3 4 5 6 7 8 9]\n",
      "a[2].shape: ()   a[2]  = 2  \n",
      "a[-3] = 7\n",
      "The error message you djkjdhjskhjbjbjk will get is: \n",
      "index 10 is out of bounds for axis 0 with size 10\n"
     ]
    }
   ],
   "source": [
    "a = np.arange(10)\n",
    "print(a)\n",
    "\n",
    "print(f\"a[2].shape: {a[2].shape}   a[2]  = {a[2]}  \" )\n",
    "\n",
    "print(f\"a[-3] = {a[-3]}\")\n",
    "\n",
    "try:\n",
    "    c = a[10]\n",
    "except Exception as e:\n",
    "        print(\"The error message you djkjdhjskhjbjbjk will get is: \")\n",
    "        print(e)\n",
    "\n",
    "\n",
    "\n"
   ]
  },
  {
   "cell_type": "code",
   "execution_count": 22,
   "id": "a9844339",
   "metadata": {},
   "outputs": [
    {
     "name": "stdout",
     "output_type": "stream",
     "text": [
      "a     = [ 0  1  2  3  4  5  6  7  8  9 10 11 12 13 14 15 16 17 18 19]\n",
      "a[6:18:2] = [ 6  8 10 12 14 16]\n",
      "a[3:] = [ 3  4  5  6  7  8  9 10 11 12 13 14 15 16 17 18 19]\n",
      "a[5]= [0 1 2 3 4]\n",
      "a[:]= [ 0  1  2  3  4  5  6  7  8  9 10 11 12 13 14 15 16 17 18 19]\n"
     ]
    }
   ],
   "source": [
    "a = np.arange(20)\n",
    "print(f\"a     = {a}\")\n",
    "c = a[6:18:2]\n",
    "print(\"a[6:18:2] =\", c)\n",
    "#access all elements index 3 and above\n",
    "d = a[3:];    print(\"a[3:] =\", d)\n",
    "f = a[:5];   print(\"a[5]=\", f)\n",
    "g = a[:];    print(\"a[:]=\", g)\n",
    "        "
   ]
  },
  {
   "cell_type": "code",
   "execution_count": null,
   "id": "27ef45e7",
   "metadata": {},
   "outputs": [],
   "source": []
  }
 ],
 "metadata": {
  "kernelspec": {
   "display_name": "Python 3 (ipykernel)",
   "language": "python",
   "name": "python3"
  },
  "language_info": {
   "codemirror_mode": {
    "name": "ipython",
    "version": 3
   },
   "file_extension": ".py",
   "mimetype": "text/x-python",
   "name": "python",
   "nbconvert_exporter": "python",
   "pygments_lexer": "ipython3",
   "version": "3.9.13"
  }
 },
 "nbformat": 4,
 "nbformat_minor": 5
}
